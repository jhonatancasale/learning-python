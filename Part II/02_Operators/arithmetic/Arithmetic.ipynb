{
 "cells": [
  {
   "cell_type": "code",
   "execution_count": 1,
   "metadata": {
    "collapsed": true
   },
   "outputs": [],
   "source": [
    "a = 42\n",
    "b = 23"
   ]
  },
  {
   "cell_type": "code",
   "execution_count": 2,
   "metadata": {
    "collapsed": false
   },
   "outputs": [
    {
     "name": "stdout",
     "output_type": "stream",
     "text": [
      "42 + 23 = 65\n",
      "42 - 23 = 19\n",
      "42 * 23 = 966\n",
      "42 / 23 = 1.826086956521739\n",
      "42 % 23 = 19\n",
      "42 ** 23 = 21613926941579800829422581272845221888\n"
     ]
    }
   ],
   "source": [
    "print(\"{} + {} = {}\".format(a, b, a + b))\n",
    "print(\"{} - {} = {}\".format(a, b, a - b))\n",
    "print(\"{} * {} = {}\".format(a, b, a * b))\n",
    "print(\"{} / {} = {}\".format(a, b, a / b))\n",
    "print(\"{} % {} = {}\".format(a, b, a % b))\n",
    "print(\"{} ** {} = {}\".format(a, b, a ** b))"
   ]
  },
  {
   "cell_type": "code",
   "execution_count": 3,
   "metadata": {
    "collapsed": false
   },
   "outputs": [
    {
     "name": "stdout",
     "output_type": "stream",
     "text": [
      "42 > 23 = True\n",
      "42 < 23 = False\n",
      "42 >= 23 = True\n",
      "42 <= 23 = False\n",
      "42 == 23 = False\n",
      "42 != 23 = True\n",
      "42 > 23 > 3.141592653589793 = True\n",
      "42 < 23 < 3.141592653589793 = False\n"
     ]
    }
   ],
   "source": [
    "print(\"{} > {} = {}\".format(a, b, a > b))\n",
    "print(\"{} < {} = {}\".format(a, b, a < b))\n",
    "print(\"{} >= {} = {}\".format(a, b, a >= b))\n",
    "print(\"{} <= {} = {}\".format(a, b, a <= b))\n",
    "print(\"{} == {} = {}\".format(a, b, a == b))\n",
    "print(\"{} != {} = {}\".format(a, b, a != b))\n",
    "\n",
    "c = 3.141592653589793\n",
    "print(\"{} > {} > {} = {}\".format(a, b, c, a > b > c))\n",
    "print(\"{} < {} < {} = {}\".format(a, b, c, a < b < c))"
   ]
  }
 ],
 "metadata": {
  "kernelspec": {
   "display_name": "Python 3",
   "language": "python",
   "name": "python3"
  },
  "language_info": {
   "codemirror_mode": {
    "name": "ipython",
    "version": 3
   },
   "file_extension": ".py",
   "mimetype": "text/x-python",
   "name": "python",
   "nbconvert_exporter": "python",
   "pygments_lexer": "ipython3",
   "version": "3.6.0"
  }
 },
 "nbformat": 4,
 "nbformat_minor": 2
}
