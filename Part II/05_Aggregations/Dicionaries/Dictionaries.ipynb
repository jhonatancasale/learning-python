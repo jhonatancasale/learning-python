{
 "cells": [
  {
   "cell_type": "markdown",
   "metadata": {},
   "source": [
    "# Dictionaries"
   ]
  },
  {
   "cell_type": "markdown",
   "metadata": {},
   "source": [
    "## Creating a Dict"
   ]
  },
  {
   "cell_type": "code",
   "execution_count": 1,
   "metadata": {
    "collapsed": false
   },
   "outputs": [
    {
     "name": "stdout",
     "output_type": "stream",
     "text": [
      "<class 'dict'> {}\n"
     ]
    }
   ],
   "source": [
    "dct = dict()\n",
    "print(type(dct), dct)"
   ]
  },
  {
   "cell_type": "code",
   "execution_count": 2,
   "metadata": {
    "collapsed": false
   },
   "outputs": [
    {
     "name": "stdout",
     "output_type": "stream",
     "text": [
      "<class 'dict'> {}\n"
     ]
    }
   ],
   "source": [
    "dct = {}\n",
    "print(type(dct), dct)"
   ]
  },
  {
   "cell_type": "code",
   "execution_count": 3,
   "metadata": {
    "collapsed": false
   },
   "outputs": [
    {
     "name": "stdout",
     "output_type": "stream",
     "text": [
      "<class 'dict'> {'a': 1}\n"
     ]
    }
   ],
   "source": [
    "dct = {'a': 1}\n",
    "print(type(dct), dct)"
   ]
  },
  {
   "cell_type": "markdown",
   "metadata": {},
   "source": [
    "## Adding some items"
   ]
  },
  {
   "cell_type": "code",
   "execution_count": 4,
   "metadata": {
    "collapsed": false,
    "scrolled": true
   },
   "outputs": [
    {
     "data": {
      "text/plain": [
       "{'a': 1, 'b': 2}"
      ]
     },
     "execution_count": 4,
     "metadata": {},
     "output_type": "execute_result"
    }
   ],
   "source": [
    "dct['b'] = 2\n",
    "dct"
   ]
  },
  {
   "cell_type": "code",
   "execution_count": 5,
   "metadata": {
    "collapsed": false
   },
   "outputs": [
    {
     "data": {
      "text/plain": [
       "{'a': 3, 'b': 2}"
      ]
     },
     "execution_count": 5,
     "metadata": {},
     "output_type": "execute_result"
    }
   ],
   "source": [
    "dct['a'] = 3\n",
    "dct"
   ]
  },
  {
   "cell_type": "code",
   "execution_count": 6,
   "metadata": {
    "collapsed": false
   },
   "outputs": [
    {
     "data": {
      "text/plain": [
       "2"
      ]
     },
     "execution_count": 6,
     "metadata": {},
     "output_type": "execute_result"
    }
   ],
   "source": [
    "dct['b']"
   ]
  },
  {
   "cell_type": "code",
   "execution_count": 7,
   "metadata": {
    "collapsed": false
   },
   "outputs": [],
   "source": [
    "#dct['c']\n",
    "\n",
    "#---------------------------------------------------------------------------\n",
    "#KeyError                                  Traceback (most recent call last)\n",
    "#<ipython-input-12-3e4d85f12902> in <module>()\n",
    "#----> 1 dct['c']\n",
    "#\n",
    "#KeyError: 'c'"
   ]
  },
  {
   "cell_type": "code",
   "execution_count": 8,
   "metadata": {
    "collapsed": false
   },
   "outputs": [
    {
     "data": {
      "text/plain": [
       "2"
      ]
     },
     "execution_count": 8,
     "metadata": {},
     "output_type": "execute_result"
    }
   ],
   "source": [
    "len(dct)"
   ]
  },
  {
   "cell_type": "code",
   "execution_count": 9,
   "metadata": {
    "collapsed": false
   },
   "outputs": [
    {
     "name": "stdout",
     "output_type": "stream",
     "text": [
      "True\n",
      "False\n"
     ]
    }
   ],
   "source": [
    "print('a' in dct)\n",
    "print('c' in dct)"
   ]
  },
  {
   "cell_type": "code",
   "execution_count": 10,
   "metadata": {
    "collapsed": false
   },
   "outputs": [
    {
     "name": "stdout",
     "output_type": "stream",
     "text": [
      "dict_values([3, 2])\n"
     ]
    }
   ],
   "source": [
    "values = dct.values()\n",
    "print(values)"
   ]
  },
  {
   "cell_type": "code",
   "execution_count": 11,
   "metadata": {
    "collapsed": true
   },
   "outputs": [],
   "source": [
    "def histogram(s: str) -> dict:\n",
    "    d = dict()\n",
    "    for c in s:\n",
    "        if c not in d:\n",
    "            d[c] = 1\n",
    "        else:\n",
    "            d[c] += 1\n",
    "    return d"
   ]
  },
  {
   "cell_type": "code",
   "execution_count": 12,
   "metadata": {
    "collapsed": false
   },
   "outputs": [
    {
     "name": "stdout",
     "output_type": "stream",
     "text": [
      "{'t': 3, 'h': 2, 'i': 2, 's': 3, ' ': 7, 'a': 3, 'e': 2, 'n': 1, 'd': 2, 'l': 3, 'o': 2, 'w': 1, 'r': 1}\n"
     ]
    }
   ],
   "source": [
    "hist = histogram(\"This is a test and a Hello World\".lower())\n",
    "print(hist)"
   ]
  },
  {
   "cell_type": "code",
   "execution_count": 13,
   "metadata": {
    "collapsed": true
   },
   "outputs": [],
   "source": [
    "def histogram(s: str) -> dict:\n",
    "    d = dict()\n",
    "    for c in s:\n",
    "        d[c] = d.get(c, 0) + 1\n",
    "        \n",
    "    return d"
   ]
  },
  {
   "cell_type": "code",
   "execution_count": 14,
   "metadata": {
    "collapsed": false
   },
   "outputs": [
    {
     "name": "stdout",
     "output_type": "stream",
     "text": [
      "{'t': 3, 'h': 2, 'i': 2, 's': 3, ' ': 7, 'a': 3, 'e': 2, 'n': 1, 'd': 2, 'l': 3, 'o': 2, 'w': 1, 'r': 1}\n"
     ]
    }
   ],
   "source": [
    "hist = histogram(\"This is a test and a Hello World\".lower())\n",
    "print(hist)"
   ]
  },
  {
   "cell_type": "code",
   "execution_count": 15,
   "metadata": {
    "collapsed": true
   },
   "outputs": [],
   "source": [
    "def print_histogram(dct: dict) -> None:\n",
    "    for key, value in dct.items():\n",
    "        print(key, value)"
   ]
  },
  {
   "cell_type": "code",
   "execution_count": 16,
   "metadata": {
    "collapsed": false
   },
   "outputs": [
    {
     "name": "stdout",
     "output_type": "stream",
     "text": [
      "t 3\n",
      "h 2\n",
      "i 2\n",
      "s 3\n",
      "  7\n",
      "a 3\n",
      "e 2\n",
      "n 1\n",
      "d 2\n",
      "l 3\n",
      "o 2\n",
      "w 1\n",
      "r 1\n"
     ]
    }
   ],
   "source": [
    "print_histogram(hist)"
   ]
  },
  {
   "cell_type": "code",
   "execution_count": 17,
   "metadata": {
    "collapsed": true
   },
   "outputs": [],
   "source": [
    "def print_histogram(dct: dict) -> None:\n",
    "    for key in sorted(dct):\n",
    "        print(key, dct[key])"
   ]
  },
  {
   "cell_type": "code",
   "execution_count": 18,
   "metadata": {
    "collapsed": false
   },
   "outputs": [
    {
     "name": "stdout",
     "output_type": "stream",
     "text": [
      "  7\n",
      "a 3\n",
      "d 2\n",
      "e 2\n",
      "h 2\n",
      "i 2\n",
      "l 3\n",
      "n 1\n",
      "o 2\n",
      "r 1\n",
      "s 3\n",
      "t 3\n",
      "w 1\n"
     ]
    }
   ],
   "source": [
    "print_histogram(hist)"
   ]
  },
  {
   "cell_type": "code",
   "execution_count": 19,
   "metadata": {
    "collapsed": true
   },
   "outputs": [],
   "source": [
    "def print_histogram(dct: dict) -> None:\n",
    "    for key, value in sorted(dct.items()):\n",
    "        print(key, value)"
   ]
  },
  {
   "cell_type": "code",
   "execution_count": 20,
   "metadata": {
    "collapsed": false
   },
   "outputs": [
    {
     "name": "stdout",
     "output_type": "stream",
     "text": [
      "  7\n",
      "a 3\n",
      "d 2\n",
      "e 2\n",
      "h 2\n",
      "i 2\n",
      "l 3\n",
      "n 1\n",
      "o 2\n",
      "r 1\n",
      "s 3\n",
      "t 3\n",
      "w 1\n"
     ]
    }
   ],
   "source": [
    "print_histogram(hist)"
   ]
  },
  {
   "cell_type": "code",
   "execution_count": 21,
   "metadata": {
    "collapsed": true
   },
   "outputs": [],
   "source": [
    "def reverse_lookup(dct: dict, value: int) -> str:\n",
    "    for key in dct:\n",
    "        if dct[key] == value:\n",
    "            return key\n",
    "    else:\n",
    "        raise LookupError('value does not appear in the dictionary')"
   ]
  },
  {
   "cell_type": "code",
   "execution_count": 22,
   "metadata": {
    "collapsed": false
   },
   "outputs": [
    {
     "name": "stdout",
     "output_type": "stream",
     "text": [
      "r\n"
     ]
    }
   ],
   "source": [
    "print(reverse_lookup(histogram('parrot'), 2))"
   ]
  },
  {
   "cell_type": "code",
   "execution_count": 23,
   "metadata": {
    "collapsed": false
   },
   "outputs": [],
   "source": [
    "#print(reverse_lookup(histogram('parrot'), 3))\n",
    "\n",
    "#---------------------------------------------------------------------------\n",
    "#LookupError                               Traceback (most recent call last)\n",
    "#<ipython-input-45-0d81dc02c5ce> in <module>()\n",
    "#----> 1 print(reverse_lookup(histogram('parrot'), 3))\n",
    "#\n",
    "#<ipython-input-43-dcc62d669299> in reverse_lookup(dct, value)\n",
    "#      4             return key\n",
    "#      5     else:\n",
    "#----> 6         raise LookupError('value does not appear in the dictionary')\n",
    "#\n",
    "#LookupError: value does not appear in the dictionary"
   ]
  },
  {
   "cell_type": "code",
   "execution_count": 24,
   "metadata": {
    "collapsed": true
   },
   "outputs": [],
   "source": [
    "known = {0:0, 1:1}\n",
    "\n",
    "def fibonacci(n: int) -> int:\n",
    "    if n in known:\n",
    "        return known[n]\n",
    "    res = fibonacci(n-1) + fibonacci(n-2)\n",
    "    known[n] = res\n",
    "    return res"
   ]
  },
  {
   "cell_type": "code",
   "execution_count": 25,
   "metadata": {
    "collapsed": false
   },
   "outputs": [
    {
     "name": "stdout",
     "output_type": "stream",
     "text": [
      "fib(0): 0\n",
      "{0: 0, 1: 1}\n",
      "fib(1): 1\n",
      "{0: 0, 1: 1}\n",
      "fib(2): 1\n",
      "{0: 0, 1: 1, 2: 1}\n",
      "fib(3): 2\n",
      "{0: 0, 1: 1, 2: 1, 3: 2}\n",
      "fib(4): 3\n",
      "{0: 0, 1: 1, 2: 1, 3: 2, 4: 3}\n",
      "fib(5): 5\n",
      "{0: 0, 1: 1, 2: 1, 3: 2, 4: 3, 5: 5}\n",
      "fib(6): 8\n",
      "{0: 0, 1: 1, 2: 1, 3: 2, 4: 3, 5: 5, 6: 8}\n",
      "fib(7): 13\n",
      "{0: 0, 1: 1, 2: 1, 3: 2, 4: 3, 5: 5, 6: 8, 7: 13}\n",
      "fib(8): 21\n",
      "{0: 0, 1: 1, 2: 1, 3: 2, 4: 3, 5: 5, 6: 8, 7: 13, 8: 21}\n",
      "fib(9): 34\n",
      "{0: 0, 1: 1, 2: 1, 3: 2, 4: 3, 5: 5, 6: 8, 7: 13, 8: 21, 9: 34}\n"
     ]
    }
   ],
   "source": [
    "for i in range(10):\n",
    "    print(\"fib({}): {}\".format(i, fibonacci(i)))\n",
    "    print(known)"
   ]
  }
 ],
 "metadata": {
  "kernelspec": {
   "display_name": "Python 3",
   "language": "python",
   "name": "python3"
  },
  "language_info": {
   "codemirror_mode": {
    "name": "ipython",
    "version": 3
   },
   "file_extension": ".py",
   "mimetype": "text/x-python",
   "name": "python",
   "nbconvert_exporter": "python",
   "pygments_lexer": "ipython3",
   "version": "3.6.0"
  }
 },
 "nbformat": 4,
 "nbformat_minor": 2
}
